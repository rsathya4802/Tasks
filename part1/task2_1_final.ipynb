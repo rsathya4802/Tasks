{
 "cells": [
  {
   "cell_type": "code",
   "execution_count": null,
   "metadata": {},
   "outputs": [],
   "source": []
  },
  {
   "cell_type": "code",
   "execution_count": null,
   "metadata": {
    "id": "-2jgmYuT-38g"
   },
   "outputs": [],
   "source": [
    "# Importing Libraries that are necessary\n",
    "\n",
    "import cv2 as cv\n",
    "import torch\n",
    "import torch.nn as nn\n",
    "import torchvision\n",
    "from torch.utils.data import Dataset,DataLoader,random_split\n",
    "from matplotlib import pyplot as plt\n",
    "from torchvision import transforms\n",
    "from torchsummary import summary\n",
    "from dataset1 import TrainData\n",
    "import torch.optim as optim\n",
    "from tqdm.notebook import tqdm\n",
    "from torch.utils.tensorboard import SummaryWriter\n",
    "import torch.nn.functional as F\n",
    "from sklearn.metrics import confusion_matrix,classification_report"
   ]
  },
  {
   "cell_type": "code",
   "execution_count": null,
   "metadata": {
    "id": "8jIzaqoU7_f3"
   },
   "outputs": [],
   "source": [
    "# Torch SummaryWriter to store generated plots and calculated accuracies\n",
    "\n",
    "writer = SummaryWriter('runs/task1')"
   ]
  },
  {
   "cell_type": "code",
   "execution_count": null,
   "metadata": {
    "id": "lQdOyfGjL5PB"
   },
   "outputs": [],
   "source": [
    "\n",
    "\n",
    "# Initialising Torch Device so that if there exists a GPU it can be utilised\n",
    "\n",
    "device = torch.device('cuda:0' if torch.cuda.is_available() else 'cpu')"
   ]
  },
  {
   "cell_type": "markdown",
   "metadata": {
    "id": "4ndY2ZbvccX5"
   },
   "source": [
    "# Model Architecture\n",
    " "
   ]
  },
  {
   "cell_type": "code",
   "execution_count": null,
   "metadata": {
    "colab": {
     "base_uri": "https://localhost:8080/",
     "height": 52
    },
    "executionInfo": {
     "elapsed": 1064,
     "status": "ok",
     "timestamp": 1617896564556,
     "user": {
      "displayName": "Sathyanarayanan R",
      "photoUrl": "",
      "userId": "01881073305030354632"
     },
     "user_tz": -330
    },
    "id": "Q1MF4RbZJc4r",
    "outputId": "b3fef10a-2cb8-48ea-ecd6-2c1f6bcaa7ab"
   },
   "outputs": [
    {
     "data": {
      "application/vnd.google.colaboratory.intrinsic+json": {
       "type": "string"
      },
      "text/plain": [
       "'\\n\\nResNet model was used. ResNet50 was modified where the intermediate blocks consisted of 1,2,2,2 layers \\ninstead of the 3,4,4,4 layers proposed.\\n\\n'"
      ]
     },
     "execution_count": 23,
     "metadata": {
      "tags": []
     },
     "output_type": "execute_result"
    }
   ],
   "source": [
    "'''\n",
    "\n",
    "ResNet model was used. ResNet50 was modified where the intermediate blocks consisted of 1,2,2,2 layers \n",
    "instead of the 3,4,4,4 layers proposed.\n",
    "\n",
    "'''"
   ]
  },
  {
   "cell_type": "code",
   "execution_count": null,
   "metadata": {
    "id": "3_N7S7sI-66P"
   },
   "outputs": [],
   "source": [
    "\n",
    "'''\n",
    "  Intermediate Block which is used on every layer.\n",
    "  It has identity connections in it which form the core concept of ResNets\n",
    "'''\n",
    "\n",
    "class InterMediateBlock(nn.Module):\n",
    "    \n",
    "    def __init__(self,in_channels,inter_channels,identity_connection=None,stride=1):\n",
    "        \n",
    "        super(InterMediateBlock,self).__init__()\n",
    "        self.expansion = 4   # Expansion refers to how the channel size should change with respect to the input channel\n",
    "        \n",
    "        # 1st layer\n",
    "        self.conv1 = nn.Conv2d(\n",
    "            in_channels,\n",
    "            inter_channels,\n",
    "            kernel_size=1,\n",
    "            stride=1,\n",
    "            padding=0,\n",
    "            bias=False\n",
    "        )\n",
    "        \n",
    "        # 2nd layer\n",
    "        self.conv2 = nn.Conv2d(\n",
    "            inter_channels,\n",
    "            inter_channels,\n",
    "            kernel_size=3,\n",
    "            stride=stride,\n",
    "            padding=1,\n",
    "            bias=False\n",
    "        )\n",
    "        \n",
    "        # 3rd layer\n",
    "        self.conv3 = nn.Conv2d(\n",
    "            inter_channels,\n",
    "            inter_channels*self.expansion,\n",
    "            kernel_size=1,\n",
    "            stride=1,\n",
    "            padding=0,\n",
    "            bias=False\n",
    "        )\n",
    "        \n",
    "        \n",
    "        self.bn1 = nn.BatchNorm2d(inter_channels)\n",
    "        self.bn2 = nn.BatchNorm2d(inter_channels)\n",
    "        self.bn3 = nn.BatchNorm2d(inter_channels*self.expansion)\n",
    "        \n",
    "        self.relu = nn.ReLU()\n",
    "        \n",
    "        # Identity Connection\n",
    "        self.identity_connection = identity_connection\n",
    "        \n",
    "        # self.initialize_weights()\n",
    "        \n",
    "    \n",
    "    def forward(self,x):\n",
    "        \n",
    "        id_connection = x.clone()\n",
    "        \n",
    "        x = self.conv1(x)\n",
    "        x = self.bn1(x)\n",
    "        x = self.relu(x)\n",
    "        \n",
    "        x = self.conv2(x)\n",
    "        x = self.bn2(x)\n",
    "        x = self.relu(x)\n",
    "        \n",
    "        x = self.conv3(x)\n",
    "        x = self.bn3(x)\n",
    "        \n",
    "        if self.identity_connection:\n",
    "            \n",
    "            id_connection = self.identity_connection(id_connection)\n",
    "            \n",
    "        x += id_connection\n",
    "        \n",
    "        x = self.relu(x)\n",
    "        return x      \n",
    "\n",
    "      \n",
    "\n",
    "    def initialize_weights(self):\n",
    "        for m in self.modules():\n",
    "            if isinstance(m, nn.Conv2d):\n",
    "                nn.init.kaiming_uniform_(m.weight)\n",
    "\n",
    "                if m.bias is not None:\n",
    "                    nn.init.constant_(m.bias, 0)\n",
    "\n",
    "            elif isinstance(m, nn.BatchNorm2d):\n",
    "                nn.init.constant_(m.weight, 1)\n",
    "                nn.init.constant_(m.bias, 0)\n",
    "\n",
    "            elif isinstance(m, nn.Linear):\n",
    "                nn.init.kaiming_uniform_(m.weight)\n",
    "                nn.init.constant_(m.bias, 0)\n",
    "\n"
   ]
  },
  {
   "cell_type": "code",
   "execution_count": null,
   "metadata": {
    "id": "v_Z8l72Q-62b"
   },
   "outputs": [],
   "source": [
    "\"\"\"\n",
    "  The complete ResNet model\n",
    "\"\"\"\n",
    "\n",
    "class ResNet(nn.Module):\n",
    "    \n",
    "    def __init__(self, block, no_layers, channels, num_classes):\n",
    "        \n",
    "        super(ResNet,self).__init__()\n",
    "        self.in_channels = 64\n",
    "        \n",
    "        self.conv1 = nn.Conv2d(channels,64,kernel_size=7,stride=2,padding=3)\n",
    "        self.bn1 = nn.BatchNorm2d(64)\n",
    "        self.relu = nn.ReLU()\n",
    "        self.maxpool = nn.MaxPool2d(kernel_size=3,stride=2,padding=1)\n",
    "        \n",
    "        self.layer1 = self.layer(InterMediateBlock,no_layers[0],64,1)\n",
    "        self.layer2 = self.layer(InterMediateBlock,no_layers[1],128,2) \n",
    "        self.layer3 = self.layer(InterMediateBlock,no_layers[2],256,2)\n",
    "        self.layer4 = self.layer(InterMediateBlock,no_layers[3],512,2)\n",
    "        \n",
    "        self.avgpool = nn.AdaptiveAvgPool2d((1,1))\n",
    "        self.fc =  nn.Linear(2048,num_classes)\n",
    "        self.softmax = nn.Softmax(dim=1)\n",
    "        # self.initialize_weights()\n",
    "        \n",
    "    def layer(self,block, no_layer_blocks, out_channels, stride):\n",
    "        \n",
    "        identity_connection = None\n",
    "        layers = []\n",
    "        \n",
    "        if stride!=1 or self.in_channels!= out_channels*4:\n",
    "            \n",
    "            identity_connection = nn.Sequential(\n",
    "                    nn.Conv2d(self.in_channels,out_channels*4,kernel_size=1,stride=stride),\n",
    "                    nn.BatchNorm2d(out_channels*4),\n",
    "            )\n",
    "        layers.append(block(self.in_channels,out_channels,identity_connection,stride=stride))\n",
    "        self.in_channels = out_channels*4\n",
    "        \n",
    "        \n",
    "        for i in range(no_layer_blocks):\n",
    "            layers.append(block(self.in_channels,out_channels))\n",
    "        \n",
    "        return nn.Sequential(*layers)\n",
    "        \n",
    "        \n",
    "    def forward(self,x):\n",
    "    \n",
    "        x = self.conv1(x)\n",
    "        x = self.bn1(x)\n",
    "        x = self.relu(x)\n",
    "        x = self.maxpool(x)\n",
    "        \n",
    "        x = self.layer1(x)\n",
    "        x = self.layer2(x)\n",
    "        x = self.layer3(x)\n",
    "        x = self.layer4(x)\n",
    "        \n",
    "        x = self.avgpool(x)\n",
    "        x = x.reshape(x.shape[0],-1)\n",
    "        x = self.fc(x)\n",
    "        # x = self.softmax(x)\n",
    "        \n",
    "        return x\n",
    "\n",
    "\n",
    "    def initialize_weights(self):\n",
    "        for m in self.modules():\n",
    "            if isinstance(m, nn.Conv2d):\n",
    "                nn.init.kaiming_uniform_(m.weight)\n",
    "\n",
    "                if m.bias is not None:\n",
    "                    nn.init.constant_(m.bias, 0)\n",
    "\n",
    "            elif isinstance(m, nn.BatchNorm2d):\n",
    "                nn.init.constant_(m.weight, 1)\n",
    "                nn.init.constant_(m.bias, 0)\n",
    "\n",
    "            elif isinstance(m, nn.Linear):\n",
    "                nn.init.kaiming_uniform_(m.weight)\n",
    "                nn.init.constant_(m.bias, 0)\n",
    "            "
   ]
  },
  {
   "cell_type": "code",
   "execution_count": null,
   "metadata": {
    "id": "wmXF-4h--60i"
   },
   "outputs": [],
   "source": [
    "\n",
    "\n",
    "def create_model(img_channel=1, layers = [1,1,1,1], num_classes=10):\n",
    "    return ResNet(InterMediateBlock, layers, img_channel, num_classes)\n"
   ]
  },
  {
   "cell_type": "markdown",
   "metadata": {
    "id": "xMHn4pvpJGBp"
   },
   "source": [
    "# Dataset Preparation"
   ]
  },
  {
   "cell_type": "code",
   "execution_count": null,
   "metadata": {
    "id": "-Faws-8tlbNJ"
   },
   "outputs": [],
   "source": [
    "transform = transforms.Compose(\n",
    "    [\n",
    "        transforms.ToPILImage(),\n",
    "        transforms.Resize((300,400)),\n",
    "        transforms.CenterCrop((210,280)),\n",
    "        transforms.ToTensor(),\n",
    "    ]\n",
    ")"
   ]
  },
  {
   "cell_type": "code",
   "execution_count": null,
   "metadata": {
    "id": "ZkmocEXmmxqY"
   },
   "outputs": [],
   "source": [
    "\n",
    "dataset = TrainData(root='./train' ,transform=transform)\n",
    "train_data,val_data = random_split(dataset,[2200,280])\n",
    "train_loader = DataLoader(train_data,batch_size=32,shuffle=True)\n",
    "val_loader = DataLoader(val_data,batch_size=32,shuffle=True)"
   ]
  },
  {
   "cell_type": "code",
   "execution_count": null,
   "metadata": {},
   "outputs": [],
   "source": []
  },
  {
   "cell_type": "code",
   "execution_count": null,
   "metadata": {},
   "outputs": [],
   "source": []
  },
  {
   "cell_type": "markdown",
   "metadata": {
    "id": "PZAZrdiiI9B3"
   },
   "source": [
    "# Training"
   ]
  },
  {
   "cell_type": "code",
   "execution_count": null,
   "metadata": {
    "id": "B_GX5ds6NR2q"
   },
   "outputs": [],
   "source": [
    "num_classes = 62\n",
    "classes = [str(i) for i in range(num_classes)]"
   ]
  },
  {
   "cell_type": "code",
   "execution_count": null,
   "metadata": {
    "id": "lNjv98l8rvBr"
   },
   "outputs": [],
   "source": [
    "\n",
    "\n",
    "def check_accuracy_probs_preds_loss(loader,loss_fn , model,mode='train',global_step=None):\n",
    "\n",
    "\n",
    "    num_correct = 0\n",
    "    num_samples = 0\n",
    "    class_probs = []\n",
    "    class_preds = []\n",
    "    losses = []\n",
    "\n",
    "    model.eval()\n",
    "\n",
    "    with torch.no_grad():\n",
    "        for x, y in loader:\n",
    "            x = x.to(device=device)\n",
    "            y = y.to(device=device)\n",
    "\n",
    "            scores = model(x)\n",
    "            loss = loss_fn(scores,y)\n",
    "\n",
    "            losses.append(loss.item())\n",
    "\n",
    "            _, predictions = scores.max(1)\n",
    "            num_correct += (predictions == y).sum()\n",
    "            num_samples += predictions.size(0)\n",
    "\n",
    "\n",
    "            class_probs_batch = [F.softmax(el, dim=0) for el in scores]\n",
    "            _, class_preds_batch = torch.max(scores, 1)\n",
    "\n",
    "            class_probs.append(class_probs_batch)\n",
    "            class_preds.append(class_preds_batch)\n",
    "\n",
    "    test_probs = torch.cat([torch.stack(batch) for batch in class_probs])\n",
    "    test_preds = torch.cat(class_preds)\n",
    "\n",
    "    model.train()\n",
    "    acc = num_correct/num_samples\n",
    "\n",
    "\n",
    "\n",
    "    return acc, test_probs,test_preds,sum(losses)/len(losses)"
   ]
  },
  {
   "cell_type": "code",
   "execution_count": null,
   "metadata": {
    "id": "TQP6VuwZmxfn"
   },
   "outputs": [],
   "source": []
  },
  {
   "cell_type": "code",
   "execution_count": null,
   "metadata": {
    "id": "ifF3jhv5mxcu"
   },
   "outputs": [],
   "source": []
  },
  {
   "cell_type": "code",
   "execution_count": null,
   "metadata": {
    "id": "BQArtKSLlUCD"
   },
   "outputs": [],
   "source": [
    "learning_rate = 3e-5\n",
    "num_epochs = 60\n",
    "\n",
    "model = create_model(img_channel=1,layers=[1,2,2,2], num_classes=62).to(device)\n",
    "\n",
    "# Loss and optimizer\n",
    "\n",
    "criterion = nn.CrossEntropyLoss()\n",
    "optimizer = optim.Adam(model.parameters(), lr=learning_rate,weight_decay=1e-4)\n",
    "scheduler = optim.lr_scheduler.StepLR(optimizer,step_size=2,gamma=0.9)"
   ]
  },
  {
   "cell_type": "code",
   "execution_count": null,
   "metadata": {
    "id": "qz97o2tZ2zm8"
   },
   "outputs": [],
   "source": [
    "def save_chkpt(state,filename='model.pth.tar'):\n",
    "  print('===== Saving Checkpoint =====')\n",
    "  torch.save(state,filename)\n"
   ]
  },
  {
   "cell_type": "code",
   "execution_count": null,
   "metadata": {
    "id": "9ef5zsEyJ8w6"
   },
   "outputs": [],
   "source": [
    "def load_chkpoint(chkpt):\n",
    "  print('===== Loading Checkpoint =====')\n",
    "  model.load_state_dict(chkpt['state_dict'])\n",
    "  \n"
   ]
  },
  {
   "cell_type": "markdown",
   "metadata": {},
   "source": [
    "# Training "
   ]
  },
  {
   "cell_type": "code",
   "execution_count": null,
   "metadata": {
    "colab": {
     "base_uri": "https://localhost:8080/",
     "height": 1000,
     "referenced_widgets": [
      "ca243b615ec64ccca0dbd01344069d53",
      "40603ddb07e8483cada149a5f9b0b967",
      "480c21f43c8c4ef99b3d353566c3db59",
      "d80089217e4a437aba9ce87066d35f8a",
      "0b53915d94534bd081a42416a405790b",
      "94fe18784dbc4ffda74d8ab7eed8864c",
      "047db53d8c2e4059b66cf38dd31ceb65",
      "3b7855a25dc846649fa473edd8dfa1bb",
      "e459b7db10e74e52b715d19f0ae70c50",
      "1566f58af0134158993a8f746926adbf",
      "a32e2bb36d4448739e87dd6a362a1133",
      "069a1a2f36524d9e9a751d706d6edf3a",
      "2306f4d6f906421b949abbc941246c09",
      "de3ec2b105bd420882bc207c390cb902",
      "4b48728c946341bfbd9cf6c64fa5319e",
      "5770034fc3154a1ca2a5edc5a4a0a607",
      "1be2c726492047a499b79b306fcea382",
      "19ead992f5784778a5951f8a1e7332d1",
      "ec21059dd1e74cb6b08a0709a9beffa6",
      "8090d81db6e346fab97f2b65c7fedc4c",
      "b27927d7069145ddbe74f7e32b6ef243",
      "e35f583646de46599825e2139f9a1905",
      "93e376d32eb14f9489a0c2ebb32a1415",
      "5e5780c2c46a4f5683e7dd73e96ed71a",
      "8407e7b3283143b98190f08315a27eed",
      "879bddd0bb7f43a0be194dbe694dc151",
      "aa895b5f0eb44bc7baaf357b9c8ec744",
      "3b6a8dbf2a4248f284f66511324df055",
      "d27c63565b1549f297dd394aaa6ec723",
      "1ad54d445cdb4acabce31b9687b1a2a4",
      "0090d69495bd4e28bca7c1b6356cca08",
      "587de112ad994e2b91086dd98c19a165",
      "75bef267ebaa4604b53b321f6aa9cd26",
      "a2acae4accf44db0a72d27448744c117",
      "e41368a673bf4cadb21065c089c48a06",
      "b6da1f09a7b649ae8d3bfa90eb2bad47",
      "fb513f9f60a840259c904a7b61da407f",
      "a720fc4e5eaa4683bb908a9144d672c4",
      "3f4761cb56fa4202a239f56c120bd801",
      "f05302679f574648a1c3a81b1021879c",
      "f4c9a595f11e4f4b8e76142b3e8bd062",
      "5c52e7ca629c4acaacbb155c1c142714",
      "46eefbea017c4a159bac7ba8dd5ed607",
      "cc86edc959274ae79039f6c48eaa5b68",
      "95813cbc0e09455dbfaed3f128b8c26e",
      "4f26eac7a40c4558af67d8dd3ee2a7ff",
      "f7c266ac5aa042ecb78ba18fafb71362",
      "4d6dc217b1f746a2b625d9b59547d25a",
      "43e20ec6a94343eea4d8fdb6c5d5c897",
      "04eed3332c544bea9a6676463e765a8e",
      "3e9a3f07a89747b0a7fd40d42df0a7d1",
      "e58fb5a18f7a44c1bab184297ffacc0c",
      "2d2bacc85e674b608fcc92c96b9c9ca2",
      "e174773b3a8f4efc94fc3bb2f200c4fc",
      "12b95782912349679a5a71320eef512b",
      "670bbf53d00a44058e2c4f55793a0d9b",
      "5eef6fd2975647ac96c28ab9e8ca6f86",
      "d8f9b3b978a1454d959f06efa0a1b3db",
      "3c4613cb6d8947639674751f4cbf0015",
      "7f9d14441f0948cbb397ac97c3c9a2a7",
      "3dbb7ffb585e4d38a91ed54d2a82e79a",
      "b8c5b7c8251445c69c9724c24bc41807",
      "c0d06c0af8364849af74f5039d9cbf6e",
      "5463d5adc483404ca16e2680781f3a20",
      "ce1ff90cf7d141a294ecf8030796414f",
      "e581183998014077958f933a370e3c74",
      "607580e742ac4cc990d8a987ab7c3a96",
      "133e34abdf4b4e0584416afa081ea465",
      "21f678500d7a4585bd74fb9a65d318bd",
      "7288367a9b354ad9a1cc62ae5caed896",
      "2150ec6f968b44a4bf6fa4660989839d",
      "decf352d7a564556b2b4bacb99007f6e",
      "d0356060b804401c90b3aa7744fc7351",
      "1f2cb346ef824fda83c706bdaa90ae7f",
      "5b2f83e830c640cfa4252ad7cbe61611",
      "6f16ec6f74f242dd837bcbb279940f31",
      "412532b1bad84df0b004d1f62cefcb58",
      "bcd62fb78d9b487b98b3663b4622b39b",
      "e188287287be49639f3211e9e7eb78c8",
      "0e968d424a724c5895a4124165cedd78",
      "d02bebf816844873b2a99b10fbcd48ad",
      "cebbc35d27b44c14b4bc066f30b3dbe9",
      "c5901fa4a5fa45e29170d34844674844",
      "de9704179b1743178d4834d6dcb774d7",
      "9f50a3bfc8404177a23ca13806c4f1d2",
      "3406ddd7807f4fe2b1d28ef9e3389e99",
      "166d9c7bb4a749b78339257eb2688071",
      "e3203b19e1434cb89b5764716141c456",
      "5b4e186ed8fa448791170ce1a248aa13",
      "27a0f13455a941e9b9d87e55e99d86a9",
      "53181dd656054703b7cd276902ce3e59",
      "269fea59e7bc465ca1aeb665289b8eb0",
      "0fe19c206ff04dd89aaf515a6a4948b6",
      "b7979d5dbb9e489da032c282416f2e32",
      "db61e86c8a244eabbc2350b1e891e553",
      "05a37dcffa2f4f7cbbdf3c324cbe7d94",
      "d9542025495f4cd0b653720a1d58e28f",
      "0ce4d749570c46d6a57fd721114a1058",
      "a8c20bd153ad4a0ba15586fdd3d2a6bd",
      "b68a473739dc40539a44dba27c16ab2a",
      "cb488158ec474c2baddfc5e07f0be0cf",
      "2f32208cca834da1892c90966803846e",
      "21c9a6315c2c46a9b2136a9104a80251",
      "6c56e5f91fe6412294ca9a80e1c4a857",
      "adab779972a44d73b10985fe1258d168",
      "347b47ff502a46f384634dc510199d0a",
      "87393df87878436ea14fff131b69ea32",
      "1bd65730feac4fc990e565e59f5b8936",
      "aaa3cbe448c94e5592f0d734cf4f8c11",
      "d40f906a20b645b4b22c5db40c7e94fa",
      "5af68b568f334c2a95196bb85b2b42cb",
      "2905a4a4080f4fd58de15f3191567c73",
      "4bc488db0a914bd3b5ecf7fb223168c8",
      "638bd577374a4a539f5a2b30e7a6e98b",
      "08bbc9cfbece495ebec72f042779446c",
      "45c66344d7cd43dd93bfa45c829d8108",
      "18a1ee4f98014726ac12e1ac9e8a148f",
      "ec4fe30ad6ae4febaa38bcf62b9976cd",
      "3fba00d85ec14f8bbc014bc174b8f815",
      "85ca221e20df4a6cb930d01e4b9ec2c2",
      "a87d3a9332ff4d6fbbcd0261f806a359",
      "e4827ae6bef646c39d8c70613b1f2541",
      "4087b6bc767e4c709a1b4cc7305c51e1",
      "81f7f59114fa4742b7d39d879614f414",
      "206625993d334b29b4e12b9da67218b4",
      "a47ae8fd9f1949ffaf09241aa00c0b5f",
      "e96e76b4a14b47169e4c90c381714bd0",
      "b9a40757886744cca862729ff8cace8b",
      "eef1ea657a7b4eef8613d1f9d93a8ce8",
      "c3623ac13e484c55bc473de6062e6b7c",
      "1b53d0f7f0634bfdaa3df92f38ddbd96",
      "86177896d21f47649cf287520e0a4d96",
      "7f3dc82c818c4f418edeb3de93448f93",
      "6f399c00d26a4dfd8767ed7a80c8f7c3",
      "16ae261038524967a535138500d24674",
      "5fbbdf52268b4de9b01ca710eaafb6c3",
      "50b8908486324afc8b490af8b635d7ec",
      "631c494dbf2b42b287d4132da3123b28",
      "62f289f065b14a6fa77a4d59e545d4fe",
      "849a387f32904c1c8cf9b5fa3fd10bfe",
      "04b6255b255d4ca3bf7da8e56dc50c5d",
      "e53eccd2935f46a58444e6f6baea4d62",
      "87d69d0cf21d40288dfb1817bc2d9e9f",
      "a4b86aa7b9d74f86b3af69256ba77864",
      "fda28e84fa904551900cb1b786cd7201",
      "07a7c6f882c64b28b0abb58921f7da8d",
      "660c2729bf0b4a42b2ef8c432c5a270f",
      "9a44f58415804f108287c4e65f5b4289",
      "f8cc8ed88d67400a8f21d0b2c4a68028",
      "8f4f40d5ab9e4830bbe72d2320c416ef",
      "962214f176e74e5980cd606fdcc36c9e",
      "979892865fd84d878264521b7fa83410",
      "e0aac523dfea4edd947ffd059a687612",
      "f842d31845974cf48fda95c9213870f3",
      "206225f5b72147b5b52a37feb43d1341",
      "cb3d0976a4cd4fa595e68a62318f32b4",
      "e678301c68754fd6af969de631883cb2",
      "2a9bfba1685c4d0aaf2ac9aaf7930a43",
      "6c0e1cbc5d9a4ebb9c1c39e12d900963",
      "0bcab3fcbdaa48d2aa5800e0a794eb2b",
      "4ffab25816b94a619609d896f8420a74",
      "3928c65fa68b4ea89a69431735230761",
      "d554bca1d20e407b8c0a1fdee011a3d8",
      "387b345819f44f3bbddacfd4e8c5b42e",
      "7fb3a4291cd848c2b18e9cb13ad06c01",
      "e8c42543c91f4b30992282865f3d8a59",
      "997630568f2a479c9debaa8f3aa7c249",
      "637b5a5a548544188b7841b915a155e1",
      "bc2c72b5652e4b22999543c367d997fb",
      "8f8a6f36510a40f6ab69db75fbd3c582",
      "67dad5ebcefa4c3b96017f127a0fc708",
      "53b8cb50dadd42a5818377086cb77890",
      "936bc63dc19246e78d2f71cdf50143ea",
      "5b1b5806f3e2404caf5a04ec63e366d0",
      "06bcda70d7b54afaa1991c1ca299e9d1",
      "5d07ae15036047f09e35b138a52a8281",
      "9861bdf7219a4de79acba053b5fd2e72",
      "f2821b1398044f70b27302b1e31694f5",
      "b20c1ab1ddc34f10bf7ba81830c83046",
      "7f0c1cb96f424bb4990ae335b0aee5d5",
      "479366f9dde34cef97edd7b1dc0ba996",
      "05bbeed6213a4b29af7be4432ecbe131",
      "40bbbb682d6b4be9807177430bdc0ca9",
      "05e14aa19724434ba964a09702d379e9",
      "ab13406d024c4d77a04e3e884f02f091",
      "45690be228cb4b549583e60ed8537e77",
      "4cbf7e3df82d495f8d87750ebe116d93",
      "55fe1a90de154da680a38539774af550",
      "a96bbcdebd8c49e386af3f944f6e9021",
      "8525750888b449e3842aacc09262cfc5",
      "57c7e15dee174af99debce5494fdf70e",
      "0cecd33dae88480aa147d1ec7352a44a",
      "952207cb00d94011831fae86bd4eba2f",
      "1d7011874c2b456f8d1abfeb064d7a60",
      "75c4f0cb746c4fb1ae2d728f91ac1857",
      "8cea8dd9ec17435d9b8ed77857555360",
      "8f1866d6ed5c4019819193d55ff1e5dc",
      "d405f4ccb8d44d738a7105dbc43c0d19",
      "d8f7949c277d4c0f89340d6594926384",
      "e6f42136e4144556a1400d7a888ef6a5",
      "2d19550901754ea2ba43e459e5f9c828",
      "1501ca3088d94d28b36faf7896940041",
      "07170713882545349ca90dcd4d9f2e4d",
      "cdd0e24ac1464095b7f1b0304555b474",
      "5cd3ce4e06ba433da2ac1328da6bb249",
      "fd1a29671d724ca9954d8e9bb72900a4",
      "efc0d07617c74892acfa4afabbcbcc29",
      "830ee97ecc2b4546962847760e6ee0ca",
      "1a85d0cc83a94910abfb88912981b328",
      "ba1701ab4ec74b9c98f2442c96ba873b",
      "f369df6d1d744827a194cd67b03513e1",
      "d79f4646c674405ca8b5ac40bd924fff",
      "0b79e67487bc4228bf9f14a057d1769c",
      "17e87c4e0cf2402ca6da6c632587b3fe",
      "0a9e39442ffe465bbc684b6e9f2f6c7f",
      "70a0140d77b44f4bb6fc57957aee3110",
      "42a490dcaeef41bf89a97b8c9cd4a9a2",
      "50dcaf17718447a6b620948b434a2876",
      "18c40d2735e34f4b87fe82a5b84f4f9b",
      "2550988d7fbe4270b95ac6f0579796bd",
      "28ed85d0311e413fb53957ad2256745a",
      "f3fa636391744ce5bb53eefd306a1432",
      "a972881f6fa848b89674303d2b151f8f",
      "e847b4b6c8424d438e27632f31111603",
      "2bcf3096821b4544ab9d0fe560563bee",
      "37e61c87b05d4cf1b304c6193af5a939",
      "eb02ef3bfaf0405f89d8023341b5d586",
      "4cd3b94ae3bc4ddcaaeca091bd1c10e1",
      "37196e9ac5df456dbc0b538737e7d749",
      "ee5a4a8ad9c94159b9ed1d9d2bd20379",
      "6ce0ead0401144b5b2b109163daa8d01",
      "69dbdfaffc164df9ac69c58fbcbd0bf6",
      "7d586d13978048829bda67709fe9bdf6",
      "7040c2152cfb48e3b09c4ea45ba6b0c7",
      "72ac1d440beb4400a0f3da15fd61a262",
      "8baf003bbcef4c06bbd52458b4c599e7",
      "4475f7d41b204bd7906ec4b7a1bf8045",
      "b3aec7badd1a4efbb65afe2de8bb3716",
      "2ec55aa4738e45cf9a64258a20e810b5",
      "c703908938474cf88b0600157cf12f28",
      "5a35f99c34b544ad989e86eb2819a8df",
      "25deff4c31a74707af4a79a905e179c9",
      "0adab133a3a748eba753a5c694a6790d",
      "f48ca10ec71b42b7a56eb6be7bdc7dff",
      "19160d86208d4f86b88490ad42e88ece",
      "eed563cbbbcd40ac9298b327e2cf0cc5",
      "d4ee09d9c16f41c8806727da8863a890",
      "f9d1dbf4abc84b19b08d57cfa7818c0a",
      "ae05e8b37cef459a823b245fc03e26cd",
      "4897aaed55404e98b9afa72d3ce55c9e",
      "c74c5840c4c24808ae56961106e81be2",
      "7d79a7f3667e42b193af44f0a0586f68",
      "627708e84f97435ba0328b7346a89db4",
      "1667932c613548a4bac190a8b228e136",
      "5cccb4c96fb343948a6ee56fac4dff24",
      "f81a2e1a22e045b88b97e416fc4e0d4c",
      "16ba2f28922e4206b9e965d4da3fac40",
      "fa0ae23fddb742918a0eb9e1c883a602",
      "8f30ad5e16d84dfab5fb8ea661fa80d3",
      "840ac0ba749b4bcb96834a2d1e6356fb",
      "0641160db9564c22ab27b7d90e259cc8",
      "955c1d279907403c80c9c6c6466a19d6",
      "4da78a11a8c24215bfaf6e80815e523e",
      "abd7a6fe77f54d12b0f0912b67c26121",
      "e4048e9eb28841688304fa0e36022ba5",
      "679293e089184631bc281cafb91dd1aa",
      "2abab9dc2d194d0db8aed00d89ae3668",
      "2b900cbece8c475091967a5b2b05deee",
      "134d3688077e4c0bbdea1f3166e256f7",
      "cb157b6f761c45959527953fbbd3aaf4",
      "532ef32bcbea49b6a501f3bde37d6199",
      "01057e105dbc4b4e97d8dd2bdd4c8a3d",
      "d298f5db823b4b9fb2ec08f5c8a7ebaa",
      "7576c8fd56d840668e25204296528048",
      "e6359261340c44cfa21e4e8519ba77cc",
      "98913b5203324d66a60862509fb18233",
      "55b188a4b3874febb74d3a634532061b",
      "f36ed4cd3efe4a6ca021479a399da25b",
      "c01eedf7c73043ca9430b1cd6ee57367",
      "6be1a519cd484e1c9dc716a77bdd4ec8",
      "889a78aeff554917b56d79f208854f8c",
      "df0704ddaf7b414e87de4f1f9911f153",
      "0ee23957a6344be889ea1a272bf0126c",
      "237f1def2dbd47fa8c39fbf96d7b534f",
      "4292b68ff8fc4a1aaabb6a411e15581d",
      "9b17e3a6192a4c5f8f2772d9c1e22356",
      "30bb39ff4c404b5c9b1d3141afa9d244",
      "f2d4b9f89202487b97ad8da06a923b87",
      "3fc53eae92444251aa0bc04fefff1864",
      "974d48da205e48a6bef424e32e1c74b2",
      "ffe4734107e54816a33e88361e9201a1",
      "4f6138ef94fe4dcbb520eb14ef1e6049",
      "e05f8e2340ee4aaca76d3477c10d897b",
      "f8729025e3374164b0e06582528eadbe",
      "1ae2164d24754df9aff2186fb6da7177",
      "6df64aa09ace4956a60f1a8d09322ce0",
      "36a825a915014aeb89939b0285a5dcaa",
      "3c606b6b33a14d98a492309db7f35cf5",
      "2fd4799899a342328aa489928a604c65",
      "877498a6d130410693f4d920a8e2c63d",
      "affae25403dc4319b39e87f6b94f9d41",
      "99612f70dbbf48ddafe2907f8c7fa24e",
      "88f5d9ef870d440797b00b91a366ff8a",
      "e158d4f851d24efc85deef67ff6f8d51",
      "f35279722bbf4228ac6a43860dbd3ad8",
      "1bfc26a7cb5e4a1bb4ace20d8c647a6a",
      "ef4fbc3d177a4097be02ff161c28f85c",
      "8a869db8bad94d77a7e63d6134eb86a2",
      "354ad4df63824f65b8af7aa3dd9ffd25",
      "0610eea9c8cd4c46b0be4ae4c31638ec",
      "ede5881381b94a8890f4d51414c72592",
      "958dd4e35afb4bf39bdbd75e301f6854",
      "eaebfd725e3349b0b27c4d4c7c1fe02d",
      "cb9f9dc4a71a4cb3895083b11360dd6d",
      "83bdb744ecd147db8b74e8d636f5ea26",
      "99f97bcb090b4a0697fd418a93a5d508",
      "b636d45c2222485b97ebc1a0d17a81ef",
      "5c37029b3b784d2793e828b8491da5b5",
      "fd31eaeb7ce940069fc877ec59a97fb4",
      "6d7fdbf57ec248f58865905f4d09d10d",
      "ca001b0405ef4c82ac55d12f0d04172d",
      "c2677d276f2a4ca689f6733f211e2854",
      "a1ad66af121348a3af8598e7b7d56ff4",
      "9621256aef8246b2bf606801762ae3e7",
      "09ecc1ac06944f5f8198454dcfafbba7",
      "26ad88cc9d934aaab9d9cc59f691d38f",
      "2592fe932584422495c6386ac887c3aa",
      "a6e1f6e67bb84a23a43abd3d39a94845",
      "276ca03aad7a4ac1a23db682880edbc9",
      "eb412b123848483a8cd1dc8c31a8d0a5",
      "9f99f2702ac84acebaebe113fe063e2a",
      "8a363ccf72b84e2da9dbf76d2f67bc79",
      "85dc4b1d0f2044be9b7d51a339dabf87",
      "f68435aa0e524883b69f941fb4d1a303",
      "61fa53cce27a411b92a91683e29e8271",
      "a24591a1607a4e89baf1ee31a2b6e52c",
      "83d5ed906cba4aa9a659f774edd517b4",
      "ba71e98d8bce4069a6bc3b14f22620a3",
      "aab5143387ed4400a05f89ce19f380f2",
      "fd9b80de65884553af613f31be42c628",
      "b10a501fc6534f19915c9270724a7245",
      "cf2dc478d81242ad8e9b12856dbbbba5",
      "b1d98b1ffab248c48f1fa27421de7bfe",
      "c02fe696235e453f987c63a5f876be5d",
      "5f0b78726f974837bea881680732a04f",
      "ba25600888c14991acc0cc1259f0afb1",
      "9d91ad9c323a42a8aac918baef539108",
      "d0ea16cafa4d41a2a5be9500f47a7bfc",
      "bfd6996650134da5b3f5c1f63cad2ecd",
      "0f94162998624f1fbe16c15260fdef51",
      "e595a2934800480d976d4d7337d46006",
      "395ebca6c8504adb8cf083387e5f6f61",
      "917d9bd9a70048df8dc410bca81615ec",
      "4b41b20bec4942639cc2c5de3425ad3c",
      "d96ecdd7b67b47308bca574bd0b9590c",
      "130d2a9c7cfd4755baa9d1e3a2c9cde7",
      "49fa10722e9c499db1c3761d3f978b80",
      "a7ffcc8e0ec9485fa661f361f4fd5257",
      "433a6446250f41bdacd4626382348a19",
      "a21410ae136a4d17a4684f46c2dcd067",
      "ec21789c2e114256b2c0eb1d62b2fa1e",
      "042764b62f6743bf9f68d982ebf7ca7f",
      "2acebde6aeba490c9182a31ff63fd380",
      "1f0a7b8c209945b58a1bb0ffab96a6d0",
      "0f53990b42a9425e94654b5e82c4b6ba",
      "3e5628d0f61640a69c2c50b328298ea1",
      "ebcc6608eb9e4be29d2800c441cf15fa",
      "e991927ea8a543e19cc3721df91f3409",
      "c9fba755ce9244319d76466e35124642",
      "c3febd84545441c9b5baa397156f3f2a",
      "0d200570777d49bf9275bda817bbb174",
      "0c3f359be0c3442b993544cc9de4e5b8",
      "55d434f971cf4dc587ea8e0f6fade016",
      "839a73c252c64050b45c4a44be489b9f",
      "27033de30e614ee39a0cbff51af7f05b",
      "64866239f50c44839cf0b71a1a245e32",
      "4bc8057b6cdc4e0fa957ba2be4fdac6e",
      "9441a128123645bebeac3f9388e8ff86",
      "8aa3aff938e240f1b76545979b015b97",
      "068a88ddef8c41e6bde760027cb44edd",
      "703d8337f6a14755ae3b916a7185f996",
      "5a28b237d2874bc6bf1bda47db4c75ba",
      "498d2a667d8740ce8c20f06a5c86a6d9",
      "876888fbf61747688212b880328cdf18",
      "0b9af684bdaf48318f48948ea4beeb2b",
      "ace2acb198e243babaed6a46d1e1b6b2",
      "5d0ac90a6a714cb8a2228d4f1ff3fdd9",
      "b1c4242f88a8444eaa770cf200babb8a",
      "b2a82e722508421c9967fe7a103097f6",
      "9ecf3652b7c240bb993935ebe1819c6d",
      "3d98e25f1d084325932970b44d1aa807",
      "ee644352255643c3bdb0707c6a4b606a",
      "00a3ed91e0f84f8dbba01f8b9a1cd323",
      "a7fa40bfa523421d8d4ab67dab35e1bc",
      "4994e7a5f8c84707aacacbb431e4032c",
      "fc1902daaf2643e6aabb2da6a777be1f",
      "15c92155fbd149e79c82f2f832063741",
      "63de1f849b334005884340f2e29e4cbd",
      "a7cb479788b542bca47aca735b6542fd",
      "3262ae248224415592a18d6b6a777a66",
      "7c07a38a0f0b449c90cc1938a9cee342",
      "bad792e82de84d83bfe99241ceadd74f",
      "81f64ae8db1547e787b3b904e0205a5a",
      "da048b65d786497fbaae3704ab39c609",
      "8645adbf109742d5b0976cfb2751f9c9",
      "a887701c1ab14128bd8841cc23a411b3",
      "a22e27801905451fb5412ec68032cf97",
      "bf9c0521c74248dbb38e28eb43df8736",
      "f702b398e703449890072fe8fe276173",
      "bda792233e3b41059c59b6dc62953f77",
      "7fa429a8c8664d6f81a15e15ab303654",
      "87847c1cba3f413982dcff28a3edf5f3",
      "6f418d489a994c949e80ad6ca6ee5b15",
      "69918b92b1104384ac187190cd7ea55f",
      "eb38153879a644a3b9e6bb49f89cd8ae",
      "24f7ed9b75a547189b38a29978ba1998",
      "380a490a5c5842a6a01fb5ea34365ede",
      "c48ccd7ed9c448a19b5a7fd71f343be2",
      "f6748b91c33a4f01a7cce0e4ceb1657d",
      "19a29de70a674fb4a967d28701ea5a1b",
      "8417b2d74d9942d28a20ed21a7c6db00",
      "e699f1cb138a4f578de60ca779083e79",
      "455d1482c8d04626857b1717b42670cf",
      "f9d0c901b7a44742a5652ff25e957a1e",
      "c95365a71070467586b906f320cb9f24",
      "b7fdeb81095f4fbe8ade88b9a617df20",
      "2de60ad0c37e4505ba3c74604d490580",
      "b326832b94264e28a3c958279b385e2e",
      "620564bba1b6405483684087f7e88216",
      "9b806b81b24c444bbbc39c05d80f8f14",
      "91044da0528f4b81b72bc5dde1550e39",
      "afa5747c36e1479f919e11b37943e78a",
      "bbfdc3ec3880465c8129b7b9dc0a8ef5",
      "6116aa4ed214479db3ab56c2b8550adb",
      "4bc494f64c034c70a874d41044cecd9e",
      "6b23d75a15364b3697bcf19f4b81969e",
      "6b8dca3085b942fdaed6fccc78cf3420",
      "7e10f2b74c2742208fb8f355006e90a4",
      "71845d17bffc4f248081e48427a03430",
      "6d1f234e3dd74ae0956f9c3736a1680d",
      "1c06356f881448d8a68752fa318d9acb",
      "2c2a8074797f44a18239276471360c37",
      "d4ea285ed52940768b69e749015c47f3",
      "6db4d0ff31ec45659a4cdbca92f9b003",
      "5c2b8201529448f090025f9eef16e600",
      "efab45cf541f4222953c22e938d199ce",
      "0c6dc1349c8d4af5a5d9af2d7fb1e8ab",
      "746cce1a1c63429184d4a741d1d82c7f",
      "14e1839f3a1a47f1bd183a1e3fba796b",
      "d9324ff2e58b400794d411bee1b39823",
      "affbfc132d4842cfb30d4537db376a0b",
      "2aa78351310c43f892cd20e013a8e7cc",
      "6aad8c8123d24fe6a2a112c0402b558e",
      "fa64a61ff866496bad1ee8a4b7942ebe",
      "a58012038d13416fa83c64905b68b09e",
      "d1d48a3d5f7b4e00bd28649d3327e2ba",
      "8d243264d8b546ff8a2cd00f711ef828",
      "290792d2686044bf800cfc8d903ec947",
      "e09ac0be2ae648189b4f741830f70e12",
      "406849e4ed944003bf40f82582c3abfd",
      "afa9ea657aef4291b905e41824d615ad",
      "998ae8b7b71847ac9288b3026ef00653",
      "98a53e4ebb204a129f9213ac5eee2cbb",
      "7cf012861a4b455b8af632e7b482db40",
      "36dab44044124dab81e24444eeadc9c1",
      "7ed536a3c5ef418ca6636fa6d2f9a301",
      "d76262787631406293bc7a3a93ad5319",
      "9995ad6173f044a5a0211f5c89a92caf",
      "80e0d9c389d245f4bf5092a0516c1fdd",
      "a07ecec1dd2c45a4b67422d33ae835be",
      "34cf527adfd54f63a581500ef501a580",
      "c39ec89010314b63a2e9c280ec8e068c",
      "cffc895b504e472a8f462cac76f5bcc2",
      "d11c461e29874f4bb4dbd44c3813c9b9",
      "a0551feaeefb451c896d373ad5780382",
      "b198f6d44603411f89be97fb1b1016d3",
      "0124de3759ae4ed2bc4e64968a0d6039",
      "eeed33177b2a477aa2bd15a43615c8c0",
      "721364c3e3544eda9dfe9617c6be2ec4",
      "2ddc5b5a60c247b4b810ee2ed97804fa"
     ]
    },
    "executionInfo": {
     "elapsed": 3671119,
     "status": "ok",
     "timestamp": 1617895694246,
     "user": {
      "displayName": "Sathyanarayanan R",
      "photoUrl": "",
      "userId": "01881073305030354632"
     },
     "user_tz": -330
    },
    "id": "ErdYvqPSeiRz",
    "outputId": "38d37321-c558-4923-d134-f0caec329b8a"
   },
   "outputs": [
    {
     "data": {
      "application/vnd.jupyter.widget-view+json": {
       "model_id": "ca243b615ec64ccca0dbd01344069d53",
       "version_major": 2,
       "version_minor": 0
      },
      "text/plain": [
       "HBox(children=(FloatProgress(value=0.0, max=69.0), HTML(value='')))"
      ]
     },
     "metadata": {
      "tags": []
     },
     "output_type": "display_data"
    },
    {
     "name": "stdout",
     "output_type": "stream",
     "text": [
      "\n",
      "Val_acc: 4.29 Val_loss: 3.89\n",
      "===== Saving Checkpoint =====\n"
     ]
    },
    {
     "data": {
      "application/vnd.jupyter.widget-view+json": {
       "model_id": "e459b7db10e74e52b715d19f0ae70c50",
       "version_major": 2,
       "version_minor": 0
      },
      "text/plain": [
       "HBox(children=(FloatProgress(value=0.0, max=69.0), HTML(value='')))"
      ]
     },
     "metadata": {
      "tags": []
     },
     "output_type": "display_data"
    },
    {
     "name": "stdout",
     "output_type": "stream",
     "text": [
      "\n",
      "Val_acc: 6.07 Val_loss: 3.63\n",
      "===== Saving Checkpoint =====\n"
     ]
    },
    {
     "data": {
      "application/vnd.jupyter.widget-view+json": {
       "model_id": "1be2c726492047a499b79b306fcea382",
       "version_major": 2,
       "version_minor": 0
      },
      "text/plain": [
       "HBox(children=(FloatProgress(value=0.0, max=69.0), HTML(value='')))"
      ]
     },
     "metadata": {
      "tags": []
     },
     "output_type": "display_data"
    },
    {
     "name": "stdout",
     "output_type": "stream",
     "text": [
      "\n",
      "Val_acc: 14.64 Val_loss: 3.30\n",
      "===== Saving Checkpoint =====\n"
     ]
    },
    {
     "data": {
      "application/vnd.jupyter.widget-view+json": {
       "model_id": "8407e7b3283143b98190f08315a27eed",
       "version_major": 2,
       "version_minor": 0
      },
      "text/plain": [
       "HBox(children=(FloatProgress(value=0.0, max=69.0), HTML(value='')))"
      ]
     },
     "metadata": {
      "tags": []
     },
     "output_type": "display_data"
    },
    {
     "name": "stdout",
     "output_type": "stream",
     "text": [
      "\n",
      "Val_acc: 22.86 Val_loss: 2.92\n",
      "===== Saving Checkpoint =====\n"
     ]
    },
    {
     "data": {
      "application/vnd.jupyter.widget-view+json": {
       "model_id": "75bef267ebaa4604b53b321f6aa9cd26",
       "version_major": 2,
       "version_minor": 0
      },
      "text/plain": [
       "HBox(children=(FloatProgress(value=0.0, max=69.0), HTML(value='')))"
      ]
     },
     "metadata": {
      "tags": []
     },
     "output_type": "display_data"
    },
    {
     "name": "stdout",
     "output_type": "stream",
     "text": [
      "\n",
      "Val_acc: 38.93 Val_loss: 2.54\n",
      "===== Saving Checkpoint =====\n"
     ]
    },
    {
     "data": {
      "application/vnd.jupyter.widget-view+json": {
       "model_id": "f4c9a595f11e4f4b8e76142b3e8bd062",
       "version_major": 2,
       "version_minor": 0
      },
      "text/plain": [
       "HBox(children=(FloatProgress(value=0.0, max=69.0), HTML(value='')))"
      ]
     },
     "metadata": {
      "tags": []
     },
     "output_type": "display_data"
    },
    {
     "name": "stdout",
     "output_type": "stream",
     "text": [
      "\n",
      "Val_acc: 45.71 Val_loss: 2.16\n",
      "===== Saving Checkpoint =====\n"
     ]
    },
    {
     "data": {
      "application/vnd.jupyter.widget-view+json": {
       "model_id": "43e20ec6a94343eea4d8fdb6c5d5c897",
       "version_major": 2,
       "version_minor": 0
      },
      "text/plain": [
       "HBox(children=(FloatProgress(value=0.0, max=69.0), HTML(value='')))"
      ]
     },
     "metadata": {
      "tags": []
     },
     "output_type": "display_data"
    },
    {
     "name": "stdout",
     "output_type": "stream",
     "text": [
      "\n",
      "Val_acc: 60.71 Val_loss: 1.81\n",
      "===== Saving Checkpoint =====\n"
     ]
    },
    {
     "data": {
      "application/vnd.jupyter.widget-view+json": {
       "model_id": "5eef6fd2975647ac96c28ab9e8ca6f86",
       "version_major": 2,
       "version_minor": 0
      },
      "text/plain": [
       "HBox(children=(FloatProgress(value=0.0, max=69.0), HTML(value='')))"
      ]
     },
     "metadata": {
      "tags": []
     },
     "output_type": "display_data"
    },
    {
     "name": "stdout",
     "output_type": "stream",
     "text": [
      "\n",
      "Val_acc: 62.86 Val_loss: 1.66\n",
      "===== Saving Checkpoint =====\n"
     ]
    },
    {
     "data": {
      "application/vnd.jupyter.widget-view+json": {
       "model_id": "ce1ff90cf7d141a294ecf8030796414f",
       "version_major": 2,
       "version_minor": 0
      },
      "text/plain": [
       "HBox(children=(FloatProgress(value=0.0, max=69.0), HTML(value='')))"
      ]
     },
     "metadata": {
      "tags": []
     },
     "output_type": "display_data"
    },
    {
     "name": "stdout",
     "output_type": "stream",
     "text": [
      "\n",
      "Val_acc: 67.14 Val_loss: 1.44\n",
      "===== Saving Checkpoint =====\n"
     ]
    },
    {
     "data": {
      "application/vnd.jupyter.widget-view+json": {
       "model_id": "d0356060b804401c90b3aa7744fc7351",
       "version_major": 2,
       "version_minor": 0
      },
      "text/plain": [
       "HBox(children=(FloatProgress(value=0.0, max=69.0), HTML(value='')))"
      ]
     },
     "metadata": {
      "tags": []
     },
     "output_type": "display_data"
    },
    {
     "name": "stdout",
     "output_type": "stream",
     "text": [
      "\n",
      "Val_acc: 70.71 Val_loss: 1.26\n",
      "===== Saving Checkpoint =====\n"
     ]
    },
    {
     "data": {
      "application/vnd.jupyter.widget-view+json": {
       "model_id": "d02bebf816844873b2a99b10fbcd48ad",
       "version_major": 2,
       "version_minor": 0
      },
      "text/plain": [
       "HBox(children=(FloatProgress(value=0.0, max=69.0), HTML(value='')))"
      ]
     },
     "metadata": {
      "tags": []
     },
     "output_type": "display_data"
    },
    {
     "name": "stdout",
     "output_type": "stream",
     "text": [
      "\n",
      "Val_acc: 72.86 Val_loss: 1.19\n",
      "===== Saving Checkpoint =====\n"
     ]
    },
    {
     "data": {
      "application/vnd.jupyter.widget-view+json": {
       "model_id": "5b4e186ed8fa448791170ce1a248aa13",
       "version_major": 2,
       "version_minor": 0
      },
      "text/plain": [
       "HBox(children=(FloatProgress(value=0.0, max=69.0), HTML(value='')))"
      ]
     },
     "metadata": {
      "tags": []
     },
     "output_type": "display_data"
    },
    {
     "name": "stdout",
     "output_type": "stream",
     "text": [
      "\n",
      "Val_acc: 72.50 Val_loss: 1.12\n"
     ]
    },
    {
     "data": {
      "application/vnd.jupyter.widget-view+json": {
       "model_id": "d9542025495f4cd0b653720a1d58e28f",
       "version_major": 2,
       "version_minor": 0
      },
      "text/plain": [
       "HBox(children=(FloatProgress(value=0.0, max=69.0), HTML(value='')))"
      ]
     },
     "metadata": {
      "tags": []
     },
     "output_type": "display_data"
    },
    {
     "name": "stdout",
     "output_type": "stream",
     "text": [
      "\n",
      "Val_acc: 78.21 Val_loss: 1.00\n",
      "===== Saving Checkpoint =====\n"
     ]
    },
    {
     "data": {
      "application/vnd.jupyter.widget-view+json": {
       "model_id": "adab779972a44d73b10985fe1258d168",
       "version_major": 2,
       "version_minor": 0
      },
      "text/plain": [
       "HBox(children=(FloatProgress(value=0.0, max=69.0), HTML(value='')))"
      ]
     },
     "metadata": {
      "tags": []
     },
     "output_type": "display_data"
    },
    {
     "name": "stdout",
     "output_type": "stream",
     "text": [
      "\n",
      "Val_acc: 77.50 Val_loss: 0.89\n"
     ]
    },
    {
     "data": {
      "application/vnd.jupyter.widget-view+json": {
       "model_id": "4bc488db0a914bd3b5ecf7fb223168c8",
       "version_major": 2,
       "version_minor": 0
      },
      "text/plain": [
       "HBox(children=(FloatProgress(value=0.0, max=69.0), HTML(value='')))"
      ]
     },
     "metadata": {
      "tags": []
     },
     "output_type": "display_data"
    },
    {
     "name": "stdout",
     "output_type": "stream",
     "text": [
      "\n",
      "Val_acc: 80.71 Val_loss: 0.83\n",
      "===== Saving Checkpoint =====\n"
     ]
    },
    {
     "data": {
      "application/vnd.jupyter.widget-view+json": {
       "model_id": "a87d3a9332ff4d6fbbcd0261f806a359",
       "version_major": 2,
       "version_minor": 0
      },
      "text/plain": [
       "HBox(children=(FloatProgress(value=0.0, max=69.0), HTML(value='')))"
      ]
     },
     "metadata": {
      "tags": []
     },
     "output_type": "display_data"
    },
    {
     "name": "stdout",
     "output_type": "stream",
     "text": [
      "\n",
      "Val_acc: 80.71 Val_loss: 0.80\n"
     ]
    },
    {
     "data": {
      "application/vnd.jupyter.widget-view+json": {
       "model_id": "eef1ea657a7b4eef8613d1f9d93a8ce8",
       "version_major": 2,
       "version_minor": 0
      },
      "text/plain": [
       "HBox(children=(FloatProgress(value=0.0, max=69.0), HTML(value='')))"
      ]
     },
     "metadata": {
      "tags": []
     },
     "output_type": "display_data"
    },
    {
     "name": "stdout",
     "output_type": "stream",
     "text": [
      "\n",
      "Val_acc: 76.79 Val_loss: 0.85\n"
     ]
    },
    {
     "data": {
      "application/vnd.jupyter.widget-view+json": {
       "model_id": "50b8908486324afc8b490af8b635d7ec",
       "version_major": 2,
       "version_minor": 0
      },
      "text/plain": [
       "HBox(children=(FloatProgress(value=0.0, max=69.0), HTML(value='')))"
      ]
     },
     "metadata": {
      "tags": []
     },
     "output_type": "display_data"
    },
    {
     "name": "stdout",
     "output_type": "stream",
     "text": [
      "\n",
      "Val_acc: 81.07 Val_loss: 0.79\n",
      "===== Saving Checkpoint =====\n"
     ]
    },
    {
     "data": {
      "application/vnd.jupyter.widget-view+json": {
       "model_id": "fda28e84fa904551900cb1b786cd7201",
       "version_major": 2,
       "version_minor": 0
      },
      "text/plain": [
       "HBox(children=(FloatProgress(value=0.0, max=69.0), HTML(value='')))"
      ]
     },
     "metadata": {
      "tags": []
     },
     "output_type": "display_data"
    },
    {
     "name": "stdout",
     "output_type": "stream",
     "text": [
      "\n",
      "Val_acc: 82.50 Val_loss: 0.71\n",
      "===== Saving Checkpoint =====\n"
     ]
    },
    {
     "data": {
      "application/vnd.jupyter.widget-view+json": {
       "model_id": "e0aac523dfea4edd947ffd059a687612",
       "version_major": 2,
       "version_minor": 0
      },
      "text/plain": [
       "HBox(children=(FloatProgress(value=0.0, max=69.0), HTML(value='')))"
      ]
     },
     "metadata": {
      "tags": []
     },
     "output_type": "display_data"
    },
    {
     "name": "stdout",
     "output_type": "stream",
     "text": [
      "\n",
      "Val_acc: 81.43 Val_loss: 0.73\n"
     ]
    },
    {
     "data": {
      "application/vnd.jupyter.widget-view+json": {
       "model_id": "4ffab25816b94a619609d896f8420a74",
       "version_major": 2,
       "version_minor": 0
      },
      "text/plain": [
       "HBox(children=(FloatProgress(value=0.0, max=69.0), HTML(value='')))"
      ]
     },
     "metadata": {
      "tags": []
     },
     "output_type": "display_data"
    },
    {
     "name": "stdout",
     "output_type": "stream",
     "text": [
      "\n",
      "Val_acc: 83.93 Val_loss: 0.67\n",
      "===== Saving Checkpoint =====\n"
     ]
    },
    {
     "data": {
      "application/vnd.jupyter.widget-view+json": {
       "model_id": "bc2c72b5652e4b22999543c367d997fb",
       "version_major": 2,
       "version_minor": 0
      },
      "text/plain": [
       "HBox(children=(FloatProgress(value=0.0, max=69.0), HTML(value='')))"
      ]
     },
     "metadata": {
      "tags": []
     },
     "output_type": "display_data"
    },
    {
     "name": "stdout",
     "output_type": "stream",
     "text": [
      "\n",
      "Val_acc: 82.86 Val_loss: 0.65\n"
     ]
    },
    {
     "data": {
      "application/vnd.jupyter.widget-view+json": {
       "model_id": "9861bdf7219a4de79acba053b5fd2e72",
       "version_major": 2,
       "version_minor": 0
      },
      "text/plain": [
       "HBox(children=(FloatProgress(value=0.0, max=69.0), HTML(value='')))"
      ]
     },
     "metadata": {
      "tags": []
     },
     "output_type": "display_data"
    },
    {
     "name": "stdout",
     "output_type": "stream",
     "text": [
      "\n",
      "Val_acc: 82.14 Val_loss: 0.64\n"
     ]
    },
    {
     "data": {
      "application/vnd.jupyter.widget-view+json": {
       "model_id": "ab13406d024c4d77a04e3e884f02f091",
       "version_major": 2,
       "version_minor": 0
      },
      "text/plain": [
       "HBox(children=(FloatProgress(value=0.0, max=69.0), HTML(value='')))"
      ]
     },
     "metadata": {
      "tags": []
     },
     "output_type": "display_data"
    },
    {
     "name": "stdout",
     "output_type": "stream",
     "text": [
      "\n",
      "Val_acc: 82.86 Val_loss: 0.65\n"
     ]
    },
    {
     "data": {
      "application/vnd.jupyter.widget-view+json": {
       "model_id": "952207cb00d94011831fae86bd4eba2f",
       "version_major": 2,
       "version_minor": 0
      },
      "text/plain": [
       "HBox(children=(FloatProgress(value=0.0, max=69.0), HTML(value='')))"
      ]
     },
     "metadata": {
      "tags": []
     },
     "output_type": "display_data"
    },
    {
     "name": "stdout",
     "output_type": "stream",
     "text": [
      "\n",
      "Val_acc: 84.64 Val_loss: 0.58\n",
      "===== Saving Checkpoint =====\n"
     ]
    },
    {
     "data": {
      "application/vnd.jupyter.widget-view+json": {
       "model_id": "2d19550901754ea2ba43e459e5f9c828",
       "version_major": 2,
       "version_minor": 0
      },
      "text/plain": [
       "HBox(children=(FloatProgress(value=0.0, max=69.0), HTML(value='')))"
      ]
     },
     "metadata": {
      "tags": []
     },
     "output_type": "display_data"
    },
    {
     "name": "stdout",
     "output_type": "stream",
     "text": [
      "\n",
      "Val_acc: 82.86 Val_loss: 0.61\n"
     ]
    },
    {
     "data": {
      "application/vnd.jupyter.widget-view+json": {
       "model_id": "1a85d0cc83a94910abfb88912981b328",
       "version_major": 2,
       "version_minor": 0
      },
      "text/plain": [
       "HBox(children=(FloatProgress(value=0.0, max=69.0), HTML(value='')))"
      ]
     },
     "metadata": {
      "tags": []
     },
     "output_type": "display_data"
    },
    {
     "name": "stdout",
     "output_type": "stream",
     "text": [
      "\n",
      "Val_acc: 86.43 Val_loss: 0.59\n",
      "===== Saving Checkpoint =====\n"
     ]
    },
    {
     "data": {
      "application/vnd.jupyter.widget-view+json": {
       "model_id": "42a490dcaeef41bf89a97b8c9cd4a9a2",
       "version_major": 2,
       "version_minor": 0
      },
      "text/plain": [
       "HBox(children=(FloatProgress(value=0.0, max=69.0), HTML(value='')))"
      ]
     },
     "metadata": {
      "tags": []
     },
     "output_type": "display_data"
    },
    {
     "name": "stdout",
     "output_type": "stream",
     "text": [
      "\n",
      "Val_acc: 84.29 Val_loss: 0.58\n"
     ]
    },
    {
     "data": {
      "application/vnd.jupyter.widget-view+json": {
       "model_id": "2bcf3096821b4544ab9d0fe560563bee",
       "version_major": 2,
       "version_minor": 0
      },
      "text/plain": [
       "HBox(children=(FloatProgress(value=0.0, max=69.0), HTML(value='')))"
      ]
     },
     "metadata": {
      "tags": []
     },
     "output_type": "display_data"
    },
    {
     "name": "stdout",
     "output_type": "stream",
     "text": [
      "\n",
      "Val_acc: 85.36 Val_loss: 0.58\n"
     ]
    },
    {
     "data": {
      "application/vnd.jupyter.widget-view+json": {
       "model_id": "7d586d13978048829bda67709fe9bdf6",
       "version_major": 2,
       "version_minor": 0
      },
      "text/plain": [
       "HBox(children=(FloatProgress(value=0.0, max=69.0), HTML(value='')))"
      ]
     },
     "metadata": {
      "tags": []
     },
     "output_type": "display_data"
    },
    {
     "name": "stdout",
     "output_type": "stream",
     "text": [
      "\n",
      "Val_acc: 84.64 Val_loss: 0.59\n"
     ]
    },
    {
     "data": {
      "application/vnd.jupyter.widget-view+json": {
       "model_id": "5a35f99c34b544ad989e86eb2819a8df",
       "version_major": 2,
       "version_minor": 0
      },
      "text/plain": [
       "HBox(children=(FloatProgress(value=0.0, max=69.0), HTML(value='')))"
      ]
     },
     "metadata": {
      "tags": []
     },
     "output_type": "display_data"
    },
    {
     "name": "stdout",
     "output_type": "stream",
     "text": [
      "\n",
      "Val_acc: 84.64 Val_loss: 0.54\n"
     ]
    },
    {
     "data": {
      "application/vnd.jupyter.widget-view+json": {
       "model_id": "ae05e8b37cef459a823b245fc03e26cd",
       "version_major": 2,
       "version_minor": 0
      },
      "text/plain": [
       "HBox(children=(FloatProgress(value=0.0, max=69.0), HTML(value='')))"
      ]
     },
     "metadata": {
      "tags": []
     },
     "output_type": "display_data"
    },
    {
     "name": "stdout",
     "output_type": "stream",
     "text": [
      "\n",
      "Val_acc: 86.43 Val_loss: 0.54\n"
     ]
    },
    {
     "data": {
      "application/vnd.jupyter.widget-view+json": {
       "model_id": "16ba2f28922e4206b9e965d4da3fac40",
       "version_major": 2,
       "version_minor": 0
      },
      "text/plain": [
       "HBox(children=(FloatProgress(value=0.0, max=69.0), HTML(value='')))"
      ]
     },
     "metadata": {
      "tags": []
     },
     "output_type": "display_data"
    },
    {
     "name": "stdout",
     "output_type": "stream",
     "text": [
      "\n",
      "Val_acc: 83.93 Val_loss: 0.56\n"
     ]
    },
    {
     "data": {
      "application/vnd.jupyter.widget-view+json": {
       "model_id": "e4048e9eb28841688304fa0e36022ba5",
       "version_major": 2,
       "version_minor": 0
      },
      "text/plain": [
       "HBox(children=(FloatProgress(value=0.0, max=69.0), HTML(value='')))"
      ]
     },
     "metadata": {
      "tags": []
     },
     "output_type": "display_data"
    },
    {
     "name": "stdout",
     "output_type": "stream",
     "text": [
      "\n",
      "Val_acc: 87.86 Val_loss: 0.50\n",
      "===== Saving Checkpoint =====\n"
     ]
    },
    {
     "data": {
      "application/vnd.jupyter.widget-view+json": {
       "model_id": "d298f5db823b4b9fb2ec08f5c8a7ebaa",
       "version_major": 2,
       "version_minor": 0
      },
      "text/plain": [
       "HBox(children=(FloatProgress(value=0.0, max=69.0), HTML(value='')))"
      ]
     },
     "metadata": {
      "tags": []
     },
     "output_type": "display_data"
    },
    {
     "name": "stdout",
     "output_type": "stream",
     "text": [
      "\n",
      "Val_acc: 86.43 Val_loss: 0.52\n"
     ]
    },
    {
     "data": {
      "application/vnd.jupyter.widget-view+json": {
       "model_id": "889a78aeff554917b56d79f208854f8c",
       "version_major": 2,
       "version_minor": 0
      },
      "text/plain": [
       "HBox(children=(FloatProgress(value=0.0, max=69.0), HTML(value='')))"
      ]
     },
     "metadata": {
      "tags": []
     },
     "output_type": "display_data"
    },
    {
     "name": "stdout",
     "output_type": "stream",
     "text": [
      "\n",
      "Val_acc: 83.93 Val_loss: 0.54\n"
     ]
    },
    {
     "data": {
      "application/vnd.jupyter.widget-view+json": {
       "model_id": "3fc53eae92444251aa0bc04fefff1864",
       "version_major": 2,
       "version_minor": 0
      },
      "text/plain": [
       "HBox(children=(FloatProgress(value=0.0, max=69.0), HTML(value='')))"
      ]
     },
     "metadata": {
      "tags": []
     },
     "output_type": "display_data"
    },
    {
     "name": "stdout",
     "output_type": "stream",
     "text": [
      "\n",
      "Val_acc: 83.57 Val_loss: 0.53\n"
     ]
    },
    {
     "data": {
      "application/vnd.jupyter.widget-view+json": {
       "model_id": "36a825a915014aeb89939b0285a5dcaa",
       "version_major": 2,
       "version_minor": 0
      },
      "text/plain": [
       "HBox(children=(FloatProgress(value=0.0, max=69.0), HTML(value='')))"
      ]
     },
     "metadata": {
      "tags": []
     },
     "output_type": "display_data"
    },
    {
     "name": "stdout",
     "output_type": "stream",
     "text": [
      "\n",
      "Val_acc: 85.71 Val_loss: 0.54\n"
     ]
    },
    {
     "data": {
      "application/vnd.jupyter.widget-view+json": {
       "model_id": "f35279722bbf4228ac6a43860dbd3ad8",
       "version_major": 2,
       "version_minor": 0
      },
      "text/plain": [
       "HBox(children=(FloatProgress(value=0.0, max=69.0), HTML(value='')))"
      ]
     },
     "metadata": {
      "tags": []
     },
     "output_type": "display_data"
    },
    {
     "name": "stdout",
     "output_type": "stream",
     "text": [
      "\n",
      "Val_acc: 85.00 Val_loss: 0.49\n"
     ]
    },
    {
     "data": {
      "application/vnd.jupyter.widget-view+json": {
       "model_id": "eaebfd725e3349b0b27c4d4c7c1fe02d",
       "version_major": 2,
       "version_minor": 0
      },
      "text/plain": [
       "HBox(children=(FloatProgress(value=0.0, max=69.0), HTML(value='')))"
      ]
     },
     "metadata": {
      "tags": []
     },
     "output_type": "display_data"
    },
    {
     "name": "stdout",
     "output_type": "stream",
     "text": [
      "\n",
      "Val_acc: 85.00 Val_loss: 0.52\n"
     ]
    },
    {
     "data": {
      "application/vnd.jupyter.widget-view+json": {
       "model_id": "ca001b0405ef4c82ac55d12f0d04172d",
       "version_major": 2,
       "version_minor": 0
      },
      "text/plain": [
       "HBox(children=(FloatProgress(value=0.0, max=69.0), HTML(value='')))"
      ]
     },
     "metadata": {
      "tags": []
     },
     "output_type": "display_data"
    },
    {
     "name": "stdout",
     "output_type": "stream",
     "text": [
      "\n",
      "Val_acc: 85.71 Val_loss: 0.52\n"
     ]
    },
    {
     "data": {
      "application/vnd.jupyter.widget-view+json": {
       "model_id": "276ca03aad7a4ac1a23db682880edbc9",
       "version_major": 2,
       "version_minor": 0
      },
      "text/plain": [
       "HBox(children=(FloatProgress(value=0.0, max=69.0), HTML(value='')))"
      ]
     },
     "metadata": {
      "tags": []
     },
     "output_type": "display_data"
    },
    {
     "name": "stdout",
     "output_type": "stream",
     "text": [
      "\n",
      "Val_acc: 83.57 Val_loss: 0.52\n"
     ]
    },
    {
     "data": {
      "application/vnd.jupyter.widget-view+json": {
       "model_id": "83d5ed906cba4aa9a659f774edd517b4",
       "version_major": 2,
       "version_minor": 0
      },
      "text/plain": [
       "HBox(children=(FloatProgress(value=0.0, max=69.0), HTML(value='')))"
      ]
     },
     "metadata": {
      "tags": []
     },
     "output_type": "display_data"
    },
    {
     "name": "stdout",
     "output_type": "stream",
     "text": [
      "\n",
      "Val_acc: 85.00 Val_loss: 0.50\n"
     ]
    },
    {
     "data": {
      "application/vnd.jupyter.widget-view+json": {
       "model_id": "5f0b78726f974837bea881680732a04f",
       "version_major": 2,
       "version_minor": 0
      },
      "text/plain": [
       "HBox(children=(FloatProgress(value=0.0, max=69.0), HTML(value='')))"
      ]
     },
     "metadata": {
      "tags": []
     },
     "output_type": "display_data"
    },
    {
     "name": "stdout",
     "output_type": "stream",
     "text": [
      "\n",
      "Val_acc: 84.29 Val_loss: 0.49\n"
     ]
    },
    {
     "data": {
      "application/vnd.jupyter.widget-view+json": {
       "model_id": "917d9bd9a70048df8dc410bca81615ec",
       "version_major": 2,
       "version_minor": 0
      },
      "text/plain": [
       "HBox(children=(FloatProgress(value=0.0, max=69.0), HTML(value='')))"
      ]
     },
     "metadata": {
      "tags": []
     },
     "output_type": "display_data"
    },
    {
     "name": "stdout",
     "output_type": "stream",
     "text": [
      "\n",
      "Val_acc: 85.00 Val_loss: 0.49\n"
     ]
    },
    {
     "data": {
      "application/vnd.jupyter.widget-view+json": {
       "model_id": "ec21789c2e114256b2c0eb1d62b2fa1e",
       "version_major": 2,
       "version_minor": 0
      },
      "text/plain": [
       "HBox(children=(FloatProgress(value=0.0, max=69.0), HTML(value='')))"
      ]
     },
     "metadata": {
      "tags": []
     },
     "output_type": "display_data"
    },
    {
     "name": "stdout",
     "output_type": "stream",
     "text": [
      "\n",
      "Val_acc: 85.00 Val_loss: 0.48\n"
     ]
    },
    {
     "data": {
      "application/vnd.jupyter.widget-view+json": {
       "model_id": "c9fba755ce9244319d76466e35124642",
       "version_major": 2,
       "version_minor": 0
      },
      "text/plain": [
       "HBox(children=(FloatProgress(value=0.0, max=69.0), HTML(value='')))"
      ]
     },
     "metadata": {
      "tags": []
     },
     "output_type": "display_data"
    },
    {
     "name": "stdout",
     "output_type": "stream",
     "text": [
      "\n",
      "Val_acc: 86.07 Val_loss: 0.47\n"
     ]
    },
    {
     "data": {
      "application/vnd.jupyter.widget-view+json": {
       "model_id": "4bc8057b6cdc4e0fa957ba2be4fdac6e",
       "version_major": 2,
       "version_minor": 0
      },
      "text/plain": [
       "HBox(children=(FloatProgress(value=0.0, max=69.0), HTML(value='')))"
      ]
     },
     "metadata": {
      "tags": []
     },
     "output_type": "display_data"
    },
    {
     "name": "stdout",
     "output_type": "stream",
     "text": [
      "\n",
      "Val_acc: 84.64 Val_loss: 0.53\n"
     ]
    },
    {
     "data": {
      "application/vnd.jupyter.widget-view+json": {
       "model_id": "0b9af684bdaf48318f48948ea4beeb2b",
       "version_major": 2,
       "version_minor": 0
      },
      "text/plain": [
       "HBox(children=(FloatProgress(value=0.0, max=69.0), HTML(value='')))"
      ]
     },
     "metadata": {
      "tags": []
     },
     "output_type": "display_data"
    },
    {
     "name": "stdout",
     "output_type": "stream",
     "text": [
      "\n",
      "Val_acc: 85.36 Val_loss: 0.50\n"
     ]
    },
    {
     "data": {
      "application/vnd.jupyter.widget-view+json": {
       "model_id": "00a3ed91e0f84f8dbba01f8b9a1cd323",
       "version_major": 2,
       "version_minor": 0
      },
      "text/plain": [
       "HBox(children=(FloatProgress(value=0.0, max=69.0), HTML(value='')))"
      ]
     },
     "metadata": {
      "tags": []
     },
     "output_type": "display_data"
    },
    {
     "name": "stdout",
     "output_type": "stream",
     "text": [
      "\n",
      "Val_acc: 83.21 Val_loss: 0.50\n"
     ]
    },
    {
     "data": {
      "application/vnd.jupyter.widget-view+json": {
       "model_id": "7c07a38a0f0b449c90cc1938a9cee342",
       "version_major": 2,
       "version_minor": 0
      },
      "text/plain": [
       "HBox(children=(FloatProgress(value=0.0, max=69.0), HTML(value='')))"
      ]
     },
     "metadata": {
      "tags": []
     },
     "output_type": "display_data"
    },
    {
     "name": "stdout",
     "output_type": "stream",
     "text": [
      "\n",
      "Val_acc: 87.50 Val_loss: 0.49\n"
     ]
    },
    {
     "data": {
      "application/vnd.jupyter.widget-view+json": {
       "model_id": "f702b398e703449890072fe8fe276173",
       "version_major": 2,
       "version_minor": 0
      },
      "text/plain": [
       "HBox(children=(FloatProgress(value=0.0, max=69.0), HTML(value='')))"
      ]
     },
     "metadata": {
      "tags": []
     },
     "output_type": "display_data"
    },
    {
     "name": "stdout",
     "output_type": "stream",
     "text": [
      "\n",
      "Val_acc: 87.86 Val_loss: 0.48\n"
     ]
    },
    {
     "data": {
      "application/vnd.jupyter.widget-view+json": {
       "model_id": "380a490a5c5842a6a01fb5ea34365ede",
       "version_major": 2,
       "version_minor": 0
      },
      "text/plain": [
       "HBox(children=(FloatProgress(value=0.0, max=69.0), HTML(value='')))"
      ]
     },
     "metadata": {
      "tags": []
     },
     "output_type": "display_data"
    },
    {
     "name": "stdout",
     "output_type": "stream",
     "text": [
      "\n",
      "Val_acc: 87.14 Val_loss: 0.50\n"
     ]
    },
    {
     "data": {
      "application/vnd.jupyter.widget-view+json": {
       "model_id": "c95365a71070467586b906f320cb9f24",
       "version_major": 2,
       "version_minor": 0
      },
      "text/plain": [
       "HBox(children=(FloatProgress(value=0.0, max=69.0), HTML(value='')))"
      ]
     },
     "metadata": {
      "tags": []
     },
     "output_type": "display_data"
    },
    {
     "name": "stdout",
     "output_type": "stream",
     "text": [
      "\n",
      "Val_acc: 86.79 Val_loss: 0.51\n"
     ]
    },
    {
     "data": {
      "application/vnd.jupyter.widget-view+json": {
       "model_id": "bbfdc3ec3880465c8129b7b9dc0a8ef5",
       "version_major": 2,
       "version_minor": 0
      },
      "text/plain": [
       "HBox(children=(FloatProgress(value=0.0, max=69.0), HTML(value='')))"
      ]
     },
     "metadata": {
      "tags": []
     },
     "output_type": "display_data"
    },
    {
     "name": "stdout",
     "output_type": "stream",
     "text": [
      "\n",
      "Val_acc: 85.36 Val_loss: 0.48\n"
     ]
    },
    {
     "data": {
      "application/vnd.jupyter.widget-view+json": {
       "model_id": "1c06356f881448d8a68752fa318d9acb",
       "version_major": 2,
       "version_minor": 0
      },
      "text/plain": [
       "HBox(children=(FloatProgress(value=0.0, max=69.0), HTML(value='')))"
      ]
     },
     "metadata": {
      "tags": []
     },
     "output_type": "display_data"
    },
    {
     "name": "stdout",
     "output_type": "stream",
     "text": [
      "\n",
      "Val_acc: 85.36 Val_loss: 0.48\n"
     ]
    },
    {
     "data": {
      "application/vnd.jupyter.widget-view+json": {
       "model_id": "14e1839f3a1a47f1bd183a1e3fba796b",
       "version_major": 2,
       "version_minor": 0
      },
      "text/plain": [
       "HBox(children=(FloatProgress(value=0.0, max=69.0), HTML(value='')))"
      ]
     },
     "metadata": {
      "tags": []
     },
     "output_type": "display_data"
    },
    {
     "name": "stdout",
     "output_type": "stream",
     "text": [
      "\n",
      "Val_acc: 85.36 Val_loss: 0.50\n"
     ]
    },
    {
     "data": {
      "application/vnd.jupyter.widget-view+json": {
       "model_id": "8d243264d8b546ff8a2cd00f711ef828",
       "version_major": 2,
       "version_minor": 0
      },
      "text/plain": [
       "HBox(children=(FloatProgress(value=0.0, max=69.0), HTML(value='')))"
      ]
     },
     "metadata": {
      "tags": []
     },
     "output_type": "display_data"
    },
    {
     "name": "stdout",
     "output_type": "stream",
     "text": [
      "\n",
      "Val_acc: 87.14 Val_loss: 0.47\n"
     ]
    },
    {
     "data": {
      "application/vnd.jupyter.widget-view+json": {
       "model_id": "36dab44044124dab81e24444eeadc9c1",
       "version_major": 2,
       "version_minor": 0
      },
      "text/plain": [
       "HBox(children=(FloatProgress(value=0.0, max=69.0), HTML(value='')))"
      ]
     },
     "metadata": {
      "tags": []
     },
     "output_type": "display_data"
    },
    {
     "name": "stdout",
     "output_type": "stream",
     "text": [
      "\n",
      "Val_acc: 86.79 Val_loss: 0.45\n"
     ]
    },
    {
     "data": {
      "application/vnd.jupyter.widget-view+json": {
       "model_id": "cffc895b504e472a8f462cac76f5bcc2",
       "version_major": 2,
       "version_minor": 0
      },
      "text/plain": [
       "HBox(children=(FloatProgress(value=0.0, max=69.0), HTML(value='')))"
      ]
     },
     "metadata": {
      "tags": []
     },
     "output_type": "display_data"
    },
    {
     "name": "stdout",
     "output_type": "stream",
     "text": [
      "\n",
      "Val_acc: 86.07 Val_loss: 0.48\n"
     ]
    }
   ],
   "source": [
    "\n",
    "tot_train_loss = []\n",
    "tot_train_acc = []\n",
    "tot_val_loss = []\n",
    "tot_val_acc = []\n",
    "best_acc = -10\n",
    "\n",
    "\n",
    "# Train Network\n",
    "for epoch in range(num_epochs):\n",
    "    losses = []\n",
    "    loop = tqdm(train_loader)\n",
    "    num_correct = 0\n",
    "    num_samples = 0\n",
    "\n",
    "\n",
    "    for batch_idx, (data, targets) in enumerate(loop):\n",
    "        # Get data to cuda if possible\n",
    "\n",
    "        data = data.to(device=device)\n",
    "        targets = targets.to(device=device)\n",
    "\n",
    "        # forward\n",
    "        scores = model(data)\n",
    "        loss = criterion(scores, targets)\n",
    "\n",
    "        _, predictions = scores.max(1)\n",
    "        num_correct += (predictions == targets).sum()\n",
    "        num_samples += predictions.size(0)\n",
    "\n",
    "        # epoch_loss+= loss.item()\n",
    "\n",
    "        losses.append(loss.item())\n",
    "        # backward\n",
    "        optimizer.zero_grad()\n",
    "        loss.backward()\n",
    "\n",
    "        # gradient descent or adam step\n",
    "        optimizer.step()\n",
    "\n",
    "        loop.set_description(f'Epoch [{epoch+1}/{num_epochs}]')\n",
    "        loop.set_postfix(loss=loss.item(),train_acc= (num_correct*100/num_samples).item())\n",
    "\n",
    "\n",
    "    scheduler.step()\n",
    "\n",
    "    val_acc,val_probs,val_preds,val_loss = check_accuracy_probs_preds_loss(val_loader,criterion,model,'val',epoch)\n",
    "    train_acc = num_correct/num_samples\n",
    "    print('Val_acc: {:0.2f} Val_loss: {:0.2f}'.format(val_acc*100,val_loss))\n",
    "\n",
    "    writer.add_scalar('Loss/Train',torch.tensor(losses).mean(),epoch)\n",
    "    writer.add_scalar('Loss/Val',val_loss,epoch)\n",
    "    writer.add_scalar('Acc/Train',train_acc,epoch)\n",
    "    writer.add_scalar('Acc/Val',val_acc,epoch)\n",
    "\n",
    "    tot_train_loss.append(torch.tensor(losses).mean())\n",
    "    tot_train_acc.append(train_acc)\n",
    "    tot_val_loss.append(val_loss)\n",
    "    tot_val_acc.append(val_acc)\n",
    "\n",
    "    if val_acc > best_acc:\n",
    "        best_acc = val_acc\n",
    "        chkpt = { \n",
    "            'state_dict': model.state_dict(),\n",
    "            'val_acc': best_acc,\n",
    "            'train_acc': train_acc\n",
    "        }\n",
    "        save_chkpt(chkpt,'part1_trained_model.pth.tar')\n",
    "\n",
    "\n",
    "\n",
    "\n",
    "    # for i in range(len(classes)):\n",
    "    #     add_pr_curve_tensorboard(i, train_probs, train_preds,epoch,'train')\n",
    "\n",
    "    # for i in range(len(classes)):\n",
    "    #     add_pr_curve_tensorboard(i, val_probs, val_preds,epoch,'val')\n",
    "\n",
    "\n",
    "\n",
    "\n"
   ]
  },
  {
   "cell_type": "code",
   "execution_count": null,
   "metadata": {},
   "outputs": [],
   "source": []
  },
  {
   "cell_type": "code",
   "execution_count": null,
   "metadata": {},
   "outputs": [],
   "source": []
  },
  {
   "cell_type": "code",
   "execution_count": null,
   "metadata": {},
   "outputs": [],
   "source": []
  },
  {
   "cell_type": "markdown",
   "metadata": {
    "id": "zGfkNOqdLXHx"
   },
   "source": [
    "# Testing on Validation data"
   ]
  },
  {
   "cell_type": "code",
   "execution_count": null,
   "metadata": {},
   "outputs": [],
   "source": []
  },
  {
   "cell_type": "code",
   "execution_count": null,
   "metadata": {
    "id": "CVpi1OrRLZdi"
   },
   "outputs": [],
   "source": [
    "model = create_model(1,[1,2,2,2],62).to(device)"
   ]
  },
  {
   "cell_type": "code",
   "execution_count": null,
   "metadata": {
    "colab": {
     "base_uri": "https://localhost:8080/"
    },
    "executionInfo": {
     "elapsed": 937,
     "status": "ok",
     "timestamp": 1617897214151,
     "user": {
      "displayName": "Sathyanarayanan R",
      "photoUrl": "",
      "userId": "01881073305030354632"
     },
     "user_tz": -330
    },
    "id": "-G6jYGcyg2-n",
    "outputId": "0351ae4a-4470-4790-d5d8-7b32fc1da4f2"
   },
   "outputs": [
    {
     "name": "stdout",
     "output_type": "stream",
     "text": [
      "===== Loading Checkpoint =====\n"
     ]
    }
   ],
   "source": [
    "load_chkpoint(torch.load('./part1_trained_model.pth.tar',map_location=device))"
   ]
  },
  {
   "cell_type": "code",
   "execution_count": null,
   "metadata": {
    "id": "B1y9aoyQg2-s"
   },
   "outputs": [],
   "source": [
    "def ret_preds_labels(model,loader):\n",
    "\n",
    "  class_preds = []\n",
    "  actual_preds = []\n",
    "\n",
    "  model.eval()\n",
    "\n",
    "  with torch.no_grad():\n",
    "      for x, y in loader:\n",
    "          x = x.to(device=device)\n",
    "          y = y.to(device=device)\n",
    "\n",
    "          scores = model(x)\n",
    "\n",
    "          _, class_preds_batch = torch.max(scores, 1)\n",
    "\n",
    "          class_preds.append(class_preds_batch)\n",
    "          actual_preds.append(y)\n",
    "\n",
    "  test_preds = torch.cat(class_preds)\n",
    "  actual_preds = torch.cat(actual_preds)\n",
    "\n",
    "  model.train()\n",
    "  return test_preds,actual_preds\n"
   ]
  },
  {
   "cell_type": "code",
   "execution_count": null,
   "metadata": {
    "id": "CZ99vADsg2-t"
   },
   "outputs": [],
   "source": [
    "y_pred,y_true = ret_preds_labels(model,val_loader)"
   ]
  },
  {
   "cell_type": "code",
   "execution_count": null,
   "metadata": {
    "colab": {
     "base_uri": "https://localhost:8080/"
    },
    "executionInfo": {
     "elapsed": 1124,
     "status": "ok",
     "timestamp": 1617897363844,
     "user": {
      "displayName": "Sathyanarayanan R",
      "photoUrl": "",
      "userId": "01881073305030354632"
     },
     "user_tz": -330
    },
    "id": "vtnr0bERg2-u",
    "outputId": "90352af9-af45-4b34-9f7a-826c6cbdd27d"
   },
   "outputs": [
    {
     "name": "stdout",
     "output_type": "stream",
     "text": [
      "              precision    recall  f1-score   support\n",
      "\n",
      "           0      1.000     0.500     0.667         2\n",
      "           1      0.500     0.667     0.571         3\n",
      "           2      1.000     1.000     1.000         7\n",
      "           3      1.000     1.000     1.000         5\n",
      "           4      1.000     1.000     1.000         6\n",
      "           5      1.000     0.833     0.909         6\n",
      "           6      1.000     1.000     1.000         6\n",
      "           7      1.000     1.000     1.000         4\n",
      "           8      0.833     1.000     0.909         5\n",
      "           9      1.000     1.000     1.000         6\n",
      "          10      1.000     1.000     1.000         3\n",
      "          11      1.000     1.000     1.000         6\n",
      "          12      0.667     1.000     0.800         2\n",
      "          13      1.000     1.000     1.000         9\n",
      "          14      1.000     1.000     1.000         5\n",
      "          15      1.000     1.000     1.000         4\n",
      "          16      1.000     1.000     1.000         4\n",
      "          17      1.000     1.000     1.000         3\n",
      "          18      0.500     0.667     0.571         3\n",
      "          19      1.000     1.000     1.000         7\n",
      "          20      1.000     1.000     1.000         6\n",
      "          21      1.000     1.000     1.000         4\n",
      "          22      1.000     0.500     0.667         2\n",
      "          23      1.000     1.000     1.000         5\n",
      "          24      1.000     0.750     0.857         4\n",
      "          25      1.000     1.000     1.000         6\n",
      "          26      1.000     1.000     1.000         6\n",
      "          27      1.000     1.000     1.000         4\n",
      "          28      0.714     1.000     0.833         5\n",
      "          29      1.000     1.000     1.000         9\n",
      "          30      1.000     1.000     1.000         4\n",
      "          31      0.750     1.000     0.857         3\n",
      "          32      1.000     1.000     1.000         5\n",
      "          33      1.000     1.000     1.000         4\n",
      "          34      1.000     1.000     1.000         7\n",
      "          35      1.000     1.000     1.000         6\n",
      "          36      1.000     1.000     1.000         1\n",
      "          37      1.000     1.000     1.000         5\n",
      "          38      1.000     0.875     0.933         8\n",
      "          39      1.000     1.000     1.000         3\n",
      "          40      1.000     1.000     1.000         3\n",
      "          41      1.000     1.000     1.000         6\n",
      "          42      1.000     0.800     0.889         5\n",
      "          43      1.000     1.000     1.000         2\n",
      "          44      1.000     1.000     1.000         3\n",
      "          45      1.000     1.000     1.000         4\n",
      "          46      1.000     1.000     1.000         4\n",
      "          47      1.000     0.667     0.800         3\n",
      "          48      0.750     1.000     0.857         3\n",
      "          49      1.000     1.000     1.000         4\n",
      "          50      0.500     1.000     0.667         2\n",
      "          51      1.000     1.000     1.000         6\n",
      "          52      1.000     1.000     1.000         3\n",
      "          53      1.000     0.667     0.800         3\n",
      "          54      0.800     0.571     0.667         7\n",
      "          55      1.000     1.000     1.000         8\n",
      "          56      1.000     1.000     1.000         3\n",
      "          57      1.000     0.800     0.889         5\n",
      "          58      1.000     1.000     1.000         4\n",
      "          59      1.000     1.000     1.000         6\n",
      "          60      1.000     1.000     1.000         2\n",
      "          61      0.500     1.000     0.667         1\n",
      "\n",
      "    accuracy                          0.950       280\n",
      "   macro avg      0.944     0.940     0.932       280\n",
      "weighted avg      0.963     0.950     0.951       280\n",
      "\n"
     ]
    }
   ],
   "source": [
    "print(classification_report(y_true.cpu(),y_pred.cpu(),digits=3))"
   ]
  },
  {
   "cell_type": "code",
   "execution_count": null,
   "metadata": {
    "id": "NVRwUbEvLZby"
   },
   "outputs": [],
   "source": []
  },
  {
   "cell_type": "code",
   "execution_count": null,
   "metadata": {},
   "outputs": [],
   "source": []
  },
  {
   "cell_type": "code",
   "execution_count": null,
   "metadata": {},
   "outputs": [],
   "source": []
  },
  {
   "cell_type": "code",
   "execution_count": null,
   "metadata": {},
   "outputs": [],
   "source": []
  },
  {
   "cell_type": "code",
   "execution_count": null,
   "metadata": {},
   "outputs": [],
   "source": []
  },
  {
   "cell_type": "code",
   "execution_count": null,
   "metadata": {},
   "outputs": [],
   "source": []
  },
  {
   "cell_type": "code",
   "execution_count": null,
   "metadata": {},
   "outputs": [],
   "source": []
  },
  {
   "cell_type": "code",
   "execution_count": null,
   "metadata": {},
   "outputs": [],
   "source": []
  },
  {
   "cell_type": "code",
   "execution_count": null,
   "metadata": {},
   "outputs": [],
   "source": []
  },
  {
   "cell_type": "code",
   "execution_count": null,
   "metadata": {},
   "outputs": [],
   "source": []
  },
  {
   "cell_type": "code",
   "execution_count": null,
   "metadata": {},
   "outputs": [],
   "source": []
  },
  {
   "cell_type": "code",
   "execution_count": null,
   "metadata": {},
   "outputs": [],
   "source": []
  },
  {
   "cell_type": "code",
   "execution_count": null,
   "metadata": {},
   "outputs": [],
   "source": []
  },
  {
   "cell_type": "code",
   "execution_count": null,
   "metadata": {},
   "outputs": [],
   "source": []
  },
  {
   "cell_type": "code",
   "execution_count": null,
   "metadata": {},
   "outputs": [],
   "source": []
  },
  {
   "cell_type": "code",
   "execution_count": null,
   "metadata": {},
   "outputs": [],
   "source": []
  },
  {
   "cell_type": "code",
   "execution_count": null,
   "metadata": {},
   "outputs": [],
   "source": []
  }
 ],
 "metadata": {
  "kernelspec": {
   "display_name": "Python 3",
   "language": "python",
   "name": "python3"
  },
  "language_info": {
   "codemirror_mode": {
    "name": "ipython",
    "version": 3
   },
   "file_extension": ".py",
   "mimetype": "text/x-python",
   "name": "python",
   "nbconvert_exporter": "python",
   "pygments_lexer": "ipython3",
   "version": "3.6.9"
  }
 },
 "nbformat": 4,
 "nbformat_minor": 4
}
